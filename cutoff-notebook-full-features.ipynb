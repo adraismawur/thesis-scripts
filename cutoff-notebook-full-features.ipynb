{
 "cells": [
  {
   "cell_type": "markdown",
   "metadata": {},
   "source": [
    "# Intro\n",
    "This is a jupyter notebook for finding distant/unrelated pairs using features generated from the full Pfam-A.hmm instead of the two hmm files used in BiG-SLICE\n",
    "\n",
    "This code is part of the BiG-SCAPE 2.0 thesis project  \n",
    "\n",
    "Start by importing these modules"
   ]
  },
  {
   "cell_type": "code",
   "execution_count": 1,
   "metadata": {},
   "outputs": [],
   "source": [
    "import multiprocessing\n",
    "from matplotlib import pyplot as plt\n",
    "import numpy as np\n",
    "import pandas as pd\n",
    "\n",
    "import plots.hist\n",
    "\n",
    "import data\n",
    "import truth.truth as truth\n",
    "import input.paths as paths\n",
    "import input.bigslice_hmm\n",
    "\n",
    "import predictions\n",
    "import predictions.tests\n",
    "\n",
    "import validation\n",
    "\n",
    "from sklearn.metrics.pairwise import cosine_similarity\n",
    "from sklearn.preprocessing import normalize\n",
    "from scipy import spatial\n",
    "\n",
    "import math"
   ]
  },
  {
   "cell_type": "markdown",
   "metadata": {},
   "source": [
    "The following code instantiates any relevant paths to data or output. Make sure to change these for your purposes.\n",
    "Not all the paths may be relevant, e.g. if you are using the bigscape_distances.tsv that is included in this repository."
   ]
  },
  {
   "cell_type": "code",
   "execution_count": 2,
   "metadata": {},
   "outputs": [],
   "source": [
    "# location of the full bigscape distances tab separated file.\n",
    "# this file is created if you are loading new values from a run using the path after this one\n",
    "FULL_TSV = \"bigscape_distances.tsv\"\n",
    "\n",
    "# location of the sqlite database to analyze\n",
    "# this database contained generated l2 normalized features\n",
    "SQLITE_DB = \"D:/Temp/benchmark-out/just-features-100/data.db\"\n"
   ]
  },
  {
   "cell_type": "code",
   "execution_count": 3,
   "metadata": {},
   "outputs": [
    {
     "name": "stdout",
     "output_type": "stream",
     "text": [
      "Loading truth\n",
      "Loading stored info from database\n",
      "Done\n",
      "2982 BGCs in database\n"
     ]
    }
   ],
   "source": [
    "print(\"Loading truth\")\n",
    "# load truth values\n",
    "TRUTH_DISTANCES = truth.from_file(FULL_TSV)\n",
    "\n",
    "TRUTH_PAIRS = validation.pairs_from_distances(TRUTH_DISTANCES)\n",
    "\n",
    "print(\"Loading stored info from database\")\n",
    "DB = data.Database(SQLITE_DB)\n",
    "\n",
    "BGC_IDS = data.get_bgc_ids(DB)\n",
    "HMM_IDS = data.get_hmm_ids(DB)\n",
    "\n",
    "BGC_ID_NAME_DICT = data.get_bgc_id_name_dict(DB)\n",
    "BGC_NAME_ID_DICT = {name: id for id, name in BGC_ID_NAME_DICT.items()}\n",
    "print(\"Done\")\n",
    "print(len(BGC_IDS), \"BGCs in database\")"
   ]
  },
  {
   "cell_type": "code",
   "execution_count": 4,
   "metadata": {},
   "outputs": [
    {
     "name": "stdout",
     "output_type": "stream",
     "text": [
      "Instantiating dataframes\n",
      "Done\n"
     ]
    }
   ],
   "source": [
    "print(\"Instantiating dataframes\")\n",
    "# instantiate dataframes\n",
    "FEATURES = pd.DataFrame(\n",
    "    np.zeros((len(BGC_IDS), len(HMM_IDS)), dtype=np.uint8),\n",
    "    index=BGC_IDS,\n",
    "    columns=HMM_IDS\n",
    ")\n",
    "\n",
    "# fetch feature values from db\n",
    "BGC_HMM_FEATURES = data.get_features(DB)\n",
    "for bgc_id, hmm_id, value in BGC_HMM_FEATURES:\n",
    "    FEATURES.at[bgc_id, hmm_id] = value\n",
    "print(\"Done\")"
   ]
  },
  {
   "cell_type": "code",
   "execution_count": 5,
   "metadata": {},
   "outputs": [],
   "source": [
    "FEATURES_NORM = pd.DataFrame(normalize(FEATURES, norm='l2', axis=0, copy=False, return_norm=False))"
   ]
  },
  {
   "cell_type": "code",
   "execution_count": 6,
   "metadata": {},
   "outputs": [],
   "source": [
    "EUCLIDEAN_DISTS = predictions.get_distances(FEATURES_NORM, BGC_ID_NAME_DICT, metric=\"euclidean\")"
   ]
  },
  {
   "cell_type": "code",
   "execution_count": 7,
   "metadata": {},
   "outputs": [
    {
     "data": {
      "image/png": "[encoded data removed]",
      "text/plain": [
       "<Figure size 432x288 with 1 Axes>"
      ]
     },
     "metadata": {
      "needs_background": "light"
     },
     "output_type": "display_data"
    }
   ],
   "source": [
    "plots.hist.from_distances(EUCLIDEAN_DISTS, max=None, bins=50)"
   ]
  },
  {
   "cell_type": "code",
   "execution_count": 12,
   "metadata": {},
   "outputs": [
    {
     "name": "stdout",
     "output_type": "stream",
     "text": [
      "Predictions from distances (upper only):\n",
      "cut_upp,under,over,unclass,prec,sens,spec,acc,ppv,npv,tp,fp,tn,fn\n",
      "0.1,0,2474797,2091,NA,0.0,1.0,0.996,NA,0.996,0,0,754272,2707\n",
      "0.2,0,2471891,4997,NA,0.0,1.0,0.996,NA,0.996,0,0,753354,2701\n",
      "0.3,0,2461433,15455,NA,0.0,1.0,0.996,NA,0.996,0,0,750133,2692\n",
      "0.4,0,2410830,66058,NA,0.0,1.0,0.996,NA,0.996,0,0,733913,2629\n",
      "0.5,0,2300219,176669,NA,0.0,1.0,0.996,NA,0.996,0,0,699073,2503\n",
      "0.6,0,2147283,329605,NA,0.0,1.0,0.996,NA,0.996,0,0,651794,2296\n",
      "0.7,0,1973951,502937,NA,0.0,1.0,0.997,NA,0.997,0,0,598765,2066\n",
      "0.8,0,1763864,713024,NA,0.0,1.0,0.997,NA,0.997,0,0,535987,1829\n",
      "0.9,0,1504175,972713,NA,0.0,1.0,0.997,NA,0.997,0,0,457663,1526\n",
      "1.0,0,1241378,1235510,NA,0.0,1.0,0.997,NA,0.997,0,0,379170,1262\n",
      "1.1,0,996783,1480105,NA,0.0,1.0,0.997,NA,0.997,0,0,305111,1026\n",
      "1.2,0,783753,1693135,NA,0.0,1.0,0.997,NA,0.997,0,0,239110,789\n",
      "1.3,0,601326,1875562,NA,0.0,1.0,0.997,NA,0.997,0,0,184727,579\n",
      "1.4,0,449709,2027179,NA,0.0,1.0,0.997,NA,0.997,0,0,136903,398\n",
      "1.5,0,327835,2149053,NA,0.0,1.0,0.997,NA,0.997,0,0,99661,260\n",
      "1.6,0,244646,2232242,NA,0.0,1.0,0.998,NA,0.998,0,0,76260,189\n",
      "1.7,0,189774,2287114,NA,0.0,1.0,0.998,NA,0.998,0,0,59155,141\n",
      "1.8,0,141587,2335301,NA,0.0,1.0,0.998,NA,0.998,0,0,44983,89\n",
      "1.9,0,103080,2373808,NA,0.0,1.0,0.998,NA,0.998,0,0,33514,67\n",
      "2.0,0,73404,2403484,NA,0.0,1.0,0.998,NA,0.998,0,0,24484,59\n"
     ]
    }
   ],
   "source": [
    "predictions.tests.distance.run_upper(\n",
    "    EUCLIDEAN_DISTS,\n",
    "    TRUTH_PAIRS,\n",
    "    upper_range=10,\n",
    "    upper_cutoff_step=0.1,\n",
    "    upper_cutoff_start=0.5\n",
    ")"
   ]
  },
  {
   "cell_type": "code",
   "execution_count": 17,
   "metadata": {},
   "outputs": [
    {
     "name": "stdout",
     "output_type": "stream",
     "text": [
      "Predictions from distances (lower only):\n",
      "cut_low,under,over,unclass,prec,sens,spec,acc,ppv,npv,tp,fp,tn,fn\n",
      "0.5,0,176669,2300219,NA,0.0,1.0,0.996,NA,0.996,0,0,55820,207\n",
      "0.6,0,329605,2147283,NA,0.0,1.0,0.996,NA,0.996,0,0,103099,414\n"
     ]
    }
   ],
   "source": [
    "predictions.tests.distance.run_lower(\n",
    "    EUCLIDEAN_DISTS,\n",
    "    TRUTH_PAIRS,\n",
    "    lower_range=11,\n",
    "    lower_cutoff_step=0.1,\n",
    "    lower_cutoff_start=0.5,\n",
    "    invert=True\n",
    ")"
   ]
  },
  {
   "cell_type": "code",
   "execution_count": 32,
   "metadata": {},
   "outputs": [
    {
     "name": "stdout",
     "output_type": "stream",
     "text": [
      "10.0% done\n",
      "20.0% done\n",
      "30.0% done\n",
      "40.0% done\n",
      "50.0% done\n",
      "60.0% done\n",
      "70.0% done\n",
      "80.0% done\n",
      "90.0% done\n",
      "100.0% done\n"
     ]
    }
   ],
   "source": [
    "COSINE_DIST_CORR = predictions.get_corr_cosine_dists(\n",
    "    TRUTH_DISTANCES,\n",
    "    BGC_HMM_FEATURES,\n",
    "    BGC_IDS,\n",
    "    BGC_NAME_ID_DICT\n",
    ")"
   ]
  },
  {
   "cell_type": "code",
   "execution_count": 33,
   "metadata": {},
   "outputs": [
    {
     "data": {
      "image/png": "[encoded data removed]",
      "text/plain": [
       "<Figure size 432x288 with 1 Axes>"
      ]
     },
     "metadata": {
      "needs_background": "light"
     },
     "output_type": "display_data"
    }
   ],
   "source": [
    "plots.hist.from_distances(COSINE_DIST_CORR, max=None, bins=50)"
   ]
  },
  {
   "cell_type": "code",
   "execution_count": 34,
   "metadata": {},
   "outputs": [
    {
     "name": "stdout",
     "output_type": "stream",
     "text": [
      "Predictions from distances (upper only):\n",
      "cut_upp,under,over,unclass,prec,sens,spec,acc,ppv,npv,tp,fp,tn,fn\n",
      "0.2,0,1333716,13931,NA,0.0,1.0,1.0,NA,1.0,0,0,1333210,520\n",
      "0.3,0,1327182,20465,NA,0.0,1.0,1.0,NA,1.0,0,0,1326938,256\n",
      "0.4,0,1321803,25844,NA,0.0,1.0,1.0,NA,1.0,0,0,1321675,135\n",
      "0.5,0,1314326,33321,NA,0.0,1.0,1.0,NA,1.0,0,0,1314248,80\n",
      "0.6,0,1292835,54812,NA,0.0,1.0,1.0,NA,1.0,0,0,1292778,57\n",
      "0.7,0,1227254,120393,NA,0.0,1.0,1.0,NA,1.0,0,0,1227249,5\n",
      "0.8,0,1083954,263693,NA,NA,1.0,1.0,NA,1.0,0,0,1083954,0\n",
      "0.9,0,829829,517818,NA,NA,1.0,1.0,NA,1.0,0,0,829829,0\n",
      "1.0,0,393190,954457,NA,NA,1.0,1.0,NA,1.0,0,0,393190,0\n"
     ]
    }
   ],
   "source": [
    "predictions.tests.distance.run_upper(\n",
    "    COSINE_DIST_CORR,\n",
    "    TRUTH_PAIRS,\n",
    "    upper_range=9,\n",
    "    upper_cutoff_step=0.1,\n",
    "    upper_cutoff_start=0.2\n",
    ")"
   ]
  }
 ],
 "metadata": {
  "interpreter": {
   "hash": "b571288436a41f8e5c94855a4eecd39238b06ee5fe18319ed8aeb9dccd7b83dc"
  },
  "kernelspec": {
   "display_name": "Python 3.7.1 64-bit",
   "language": "python",
   "name": "python3"
  },
  "language_info": {
   "codemirror_mode": {
    "name": "ipython",
    "version": 3
   },
   "file_extension": ".py",
   "mimetype": "text/x-python",
   "name": "python",
   "nbconvert_exporter": "python",
   "pygments_lexer": "ipython3",
   "version": "3.7.1"
  },
  "orig_nbformat": 4
 },
 "nbformat": 4,
 "nbformat_minor": 2
}
