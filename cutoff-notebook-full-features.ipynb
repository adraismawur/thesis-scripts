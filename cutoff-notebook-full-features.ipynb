{
 "cells": [
  {
   "cell_type": "markdown",
   "metadata": {},
   "source": [
    "# Intro\n",
    "This is a jupyter notebook for finding distant/unrelated pairs using features generated from the full Pfam-A.hmm instead of the two hmm files used in BiG-SLICE\n",
    "\n",
    "This code is part of the BiG-SCAPE 2.0 thesis project  \n",
    "\n",
    "Start by importing these modules"
   ]
  }
 ],
 "metadata": {
  "language_info": {
   "name": "python"
  },
  "orig_nbformat": 4
 },
 "nbformat": 4,
 "nbformat_minor": 2
}
